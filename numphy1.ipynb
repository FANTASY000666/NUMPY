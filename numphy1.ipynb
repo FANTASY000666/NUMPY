{
  "cells": [
    {
      "cell_type": "markdown",
      "metadata": {
        "id": "view-in-github",
        "colab_type": "text"
      },
      "source": [
        "<a href=\"https://colab.research.google.com/github/FANTASY000666/NUMPY/blob/main/numphy1.ipynb\" target=\"_parent\"><img src=\"https://colab.research.google.com/assets/colab-badge.svg\" alt=\"Open In Colab\"/></a>"
      ]
    },
    {
      "cell_type": "code",
      "execution_count": null,
      "metadata": {
        "id": "j0EFVYIQRrrH"
      },
      "outputs": [],
      "source": [
        "import numpy as np"
      ]
    },
    {
      "cell_type": "markdown",
      "metadata": {
        "id": "ip6bQpajvqG6"
      },
      "source": [
        "Generating 1D and 2D arrays"
      ]
    },
    {
      "cell_type": "code",
      "execution_count": null,
      "metadata": {
        "colab": {
          "base_uri": "https://localhost:8080/"
        },
        "id": "AbewMyl1wBfu",
        "outputId": "e23b582a-735e-40ff-dd92-40d6a0003429"
      },
      "outputs": [
        {
          "output_type": "execute_result",
          "data": {
            "text/plain": [
              "array([1, 2, 3, 4, 5])"
            ]
          },
          "metadata": {},
          "execution_count": 104
        }
      ],
      "source": [
        "a = np.array([1, 2, 3, 4, 5])\n",
        "a"
      ]
    },
    {
      "cell_type": "code",
      "execution_count": null,
      "metadata": {
        "id": "xxdBGyQZw9B_"
      },
      "outputs": [],
      "source": [
        "b = np.array([[1,2], [3,4], [5,6]])"
      ]
    },
    {
      "cell_type": "markdown",
      "metadata": {
        "id": "-5bpEm0i-X8x"
      },
      "source": [
        "Populating array with sequence of numbers."
      ]
    },
    {
      "cell_type": "code",
      "execution_count": null,
      "metadata": {
        "colab": {
          "base_uri": "https://localhost:8080/"
        },
        "id": "UsEir4OD-ksS",
        "outputId": "9b76b4f7-9f9f-40cf-9652-cc45276ff63b"
      },
      "outputs": [
        {
          "output_type": "execute_result",
          "data": {
            "text/plain": [
              "array([ 5,  6,  7,  8,  9, 10, 11])"
            ]
          },
          "metadata": {},
          "execution_count": 106
        }
      ],
      "source": [
        "seq1 = np.arange(5,12)\n",
        "seq1"
      ]
    },
    {
      "cell_type": "code",
      "execution_count": null,
      "metadata": {
        "id": "BcNxyNyOBr9J"
      },
      "outputs": [],
      "source": []
    },
    {
      "cell_type": "code",
      "execution_count": null,
      "metadata": {
        "colab": {
          "base_uri": "https://localhost:8080/"
        },
        "id": "p75oGhIvziMJ",
        "outputId": "96d5a6fa-b2a1-453d-f0a9-419e56eb01bf"
      },
      "outputs": [
        {
          "output_type": "stream",
          "name": "stdout",
          "text": [
            "cell 9\n",
            "\n",
            "\n",
            "[4 9]\n",
            "\n",
            "\n",
            "[ 8  7 10  9  4  5  6]\n"
          ]
        }
      ],
      "source": [
        "# Getting specific element in an array.\n",
        "d = np.array([[1,2,3,4,5,6,7], [8,7,10,9,4,5,6]])\n",
        "print(\"cell\", d[1, 3])\n",
        "print('\\n')\n",
        "print(d[:, 3]) # prints all elements in rows of column 3 : starts from index 0\n",
        "\n",
        "print('\\n')\n",
        "print(d[1, :]) # prints all elements in columns in row 1: Starts from index 0"
      ]
    },
    {
      "cell_type": "markdown",
      "metadata": {
        "id": "8aJv9yWGEGd4"
      },
      "source": [
        "Populates array random number"
      ]
    },
    {
      "cell_type": "code",
      "execution_count": null,
      "metadata": {
        "colab": {
          "base_uri": "https://localhost:8080/"
        },
        "id": "tzbdWASaEPqM",
        "outputId": "cd91a365-43b2-46ed-f5f8-430a7bb86343"
      },
      "outputs": [
        {
          "output_type": "stream",
          "name": "stdout",
          "text": [
            "[74 52 50 50 92 68]\n"
          ]
        }
      ],
      "source": [
        "# generating randoms integers between 50 and 100\n",
        "random1 = np.random.randint(50, 101, 6)\n",
        "print(random1)"
      ]
    },
    {
      "cell_type": "code",
      "execution_count": null,
      "metadata": {
        "colab": {
          "base_uri": "https://localhost:8080/"
        },
        "id": "gOMFJPjfE_zw",
        "outputId": "f0d7e8e9-f9af-4512-ef91-18fb040b7784"
      },
      "outputs": [
        {
          "output_type": "stream",
          "name": "stdout",
          "text": [
            "[0.42483035 0.7024887  0.28372826 0.85932627 0.86656013 0.12161735]\n",
            "\n",
            "\n",
            "[0.74004158 0.49578896 0.65606685 0.22343958 0.14048228]\n"
          ]
        }
      ],
      "source": [
        "# Generating random float numbers 0.0 and 1.0 use np.random.random('pass in size of array')\n",
        "random2 = np.random.rand(6)\n",
        "print(random2)\n",
        "print('\\n')\n",
        "random3 = np.random.random(5)\n",
        "print(random3)"
      ]
    },
    {
      "cell_type": "markdown",
      "metadata": {
        "id": "C_AJXsazGxjZ"
      },
      "source": [
        "Broadcasting - NumPy uses a trick called broadcasting to virtually expand the smaller operand to dimensions compatible for linear algebra."
      ]
    },
    {
      "cell_type": "code",
      "execution_count": null,
      "metadata": {
        "colab": {
          "base_uri": "https://localhost:8080/"
        },
        "id": "R70kRE58GTcL",
        "outputId": "0f6419c5-bf86-49af-9ef6-12a6e3fc44e7"
      },
      "outputs": [
        {
          "output_type": "stream",
          "name": "stdout",
          "text": [
            "[2.74004158 2.49578896 2.65606685 2.22343958 2.14048228] \n",
            "\n"
          ]
        }
      ],
      "source": [
        "random4 = random3 + 2.0\n",
        "print(random4, '\\n')\n",
        "\n",
        "random5 = random3 * 3.0"
      ]
    },
    {
      "cell_type": "code",
      "source": [],
      "metadata": {
        "id": "ctN0fxqbWguj"
      },
      "execution_count": null,
      "outputs": []
    },
    {
      "cell_type": "code",
      "source": [
        "# Finding the determinant of identity matrix 3\n",
        "c = np.identity(3) # creates a matrix of identity 3\n",
        "w = np.linalg.det(c) # finds the det of matrix c\n",
        "inv = np.linalg.inv(c) # finds the inverse of matrix c\n",
        "print(w, '\\n') # prints the det, w\n",
        "np.dot(inv, c) # multiply the inv of c with identity matrix c"
      ],
      "metadata": {
        "id": "yO0ERPJbSWIV",
        "outputId": "2ead83c3-7ba1-4068-fcc2-9d04079a55d9",
        "colab": {
          "base_uri": "https://localhost:8080/"
        }
      },
      "execution_count": null,
      "outputs": [
        {
          "output_type": "stream",
          "name": "stdout",
          "text": [
            "1.0 \n",
            "\n"
          ]
        },
        {
          "output_type": "execute_result",
          "data": {
            "text/plain": [
              "array([[1., 0., 0.],\n",
              "       [0., 1., 0.],\n",
              "       [0., 0., 1.]])"
            ]
          },
          "metadata": {},
          "execution_count": 111
        }
      ]
    },
    {
      "cell_type": "code",
      "source": [
        "# solving a linear matrix Equation\n",
        "a = np.array([[2,3], [4,-1]])\n",
        "b = np.array([4,5])\n",
        "solution = np.linalg.solve(a, b)\n",
        "trace = np.trace(a)\n",
        "eigenValues = np.linalg.eig(a)\n",
        "print(\"eigenValues\", eigenValues)\n",
        "print(\"Trace\", trace)\n",
        "print(\"Solution\", solution)"
      ],
      "metadata": {
        "id": "LRhvWEaeXshL",
        "colab": {
          "base_uri": "https://localhost:8080/"
        },
        "outputId": "258b2bab-17ce-46b1-9a9b-20f9dd148ff8"
      },
      "execution_count": null,
      "outputs": [
        {
          "output_type": "stream",
          "name": "stdout",
          "text": [
            "eigenValues (array([ 4.27491722, -3.27491722]), array([[ 0.79681209, -0.49436913],\n",
            "       [ 0.60422718,  0.86925207]]))\n",
            "Trace 1\n",
            "Solution [1.35714286 0.42857143]\n"
          ]
        }
      ]
    },
    {
      "cell_type": "markdown",
      "source": [
        "Create a linear dataset"
      ],
      "metadata": {
        "id": "okGzd8tsicdo"
      }
    },
    {
      "cell_type": "code",
      "source": [
        "# first trial\n",
        "feature = np.random.randint(6, 20)\n",
        "print(feature)\n",
        "\n",
        "label = 3*feature + 4\n",
        "print(label)"
      ],
      "metadata": {
        "colab": {
          "base_uri": "https://localhost:8080/"
        },
        "id": "hQ7mTVUVjAoA",
        "outputId": "63667996-509e-417b-8524-79e309638772"
      },
      "execution_count": null,
      "outputs": [
        {
          "output_type": "stream",
          "name": "stdout",
          "text": [
            "8\n",
            "28\n"
          ]
        }
      ]
    },
    {
      "cell_type": "code",
      "source": [
        "# second trial\n",
        "feature1 = np.arange(6,21)\n",
        "label1 = (feature1 * 3) + 4\n",
        "\n",
        "print(feature1)\n",
        "print(\"Label1 = \", label1)"
      ],
      "metadata": {
        "colab": {
          "base_uri": "https://localhost:8080/"
        },
        "id": "oXx3UiqTlDQv",
        "outputId": "469818d5-7568-42c0-ec64-415029cad57d"
      },
      "execution_count": null,
      "outputs": [
        {
          "output_type": "stream",
          "name": "stdout",
          "text": [
            "[ 6  7  8  9 10 11 12 13 14 15 16 17 18 19 20]\n",
            "Label1 =  [22 25 28 31 34 37 40 43 46 49 52 55 58 61 64]\n"
          ]
        }
      ]
    },
    {
      "cell_type": "markdown",
      "source": [
        "Add Some Noise to the Dataset"
      ],
      "metadata": {
        "id": "k9vxIdjyqh4f"
      }
    },
    {
      "cell_type": "code",
      "source": [
        "# first trial\n",
        "noise = np.linspace(-2, 2, 15)\n",
        "print(noise, '\\n')\n",
        "\n",
        "label2 = label1 + noise\n",
        "print(\"label2 = \", label2)"
      ],
      "metadata": {
        "colab": {
          "base_uri": "https://localhost:8080/"
        },
        "id": "yJtEoKROqrG-",
        "outputId": "4ed6806f-426f-46a6-d517-d51cdd3d8633"
      },
      "execution_count": null,
      "outputs": [
        {
          "output_type": "stream",
          "name": "stdout",
          "text": [
            "[-2.         -1.71428571 -1.42857143 -1.14285714 -0.85714286 -0.57142857\n",
            " -0.28571429  0.          0.28571429  0.57142857  0.85714286  1.14285714\n",
            "  1.42857143  1.71428571  2.        ] \n",
            "\n",
            "label2 =  [20.         23.28571429 26.57142857 29.85714286 33.14285714 36.42857143\n",
            " 39.71428571 43.         46.28571429 49.57142857 52.85714286 56.14285714\n",
            " 59.42857143 62.71428571 66.        ]\n"
          ]
        }
      ]
    },
    {
      "cell_type": "code",
      "source": [
        "# Second trial\n",
        "noise2 = np.random.uniform(-2, 2, 15)\n",
        "print(noise2, '\\n')\n",
        "\n",
        "label3 = label1 + noise2\n",
        "print(\"Label3 = \", label3)"
      ],
      "metadata": {
        "colab": {
          "base_uri": "https://localhost:8080/"
        },
        "id": "4aEfWq8MwOXV",
        "outputId": "9d154d03-74c8-4b9b-c88d-f8cf8ba1fca2"
      },
      "execution_count": null,
      "outputs": [
        {
          "output_type": "stream",
          "name": "stdout",
          "text": [
            "[ 0.52616028  1.62454622 -0.83935585 -1.96635809 -1.75845581 -0.62803543\n",
            "  0.02220653 -1.9387268   0.89949226  1.50252637  1.91052829 -1.21447186\n",
            " -1.17464727  1.59371057 -0.44530816] \n",
            "\n",
            "Label3 =  [22.52616028 26.62454622 27.16064415 29.03364191 32.24154419 36.37196457\n",
            " 40.02220653 41.0612732  46.89949226 50.50252637 53.91052829 53.78552814\n",
            " 56.82535273 62.59371057 63.55469184]\n"
          ]
        }
      ]
    },
    {
      "cell_type": "code",
      "source": [
        "# Third trial\n",
        "noise3 = (np.random.random([15]) * 4) - 2\n",
        "print(noise3, '\\n')\n",
        "\n",
        "label4 = label1 + noise3\n",
        "print(label4)"
      ],
      "metadata": {
        "colab": {
          "base_uri": "https://localhost:8080/"
        },
        "id": "X5knkvsMyZIt",
        "outputId": "76ac441a-0e77-4b1c-c5d1-aace58edfc2e"
      },
      "execution_count": null,
      "outputs": [
        {
          "output_type": "stream",
          "name": "stdout",
          "text": [
            "[-1.02409443 -0.41956442  1.24774876  0.52727618  1.52763105 -0.52852525\n",
            "  1.01298765 -1.25040454  0.6617205   1.41288015 -0.26623739 -1.41403841\n",
            " -0.70683161  1.7107639   0.55325065] \n",
            "\n",
            "[20.97590557 24.58043558 29.24774876 31.52727618 35.52763105 36.47147475\n",
            " 41.01298765 41.74959546 46.6617205  50.41288015 51.73376261 53.58596159\n",
            " 57.29316839 62.7107639  64.55325065]\n"
          ]
        }
      ]
    }
  ],
  "metadata": {
    "colab": {
      "provenance": [],
      "authorship_tag": "ABX9TyOgJO8cJ7UR+8krIXwD2uNf",
      "include_colab_link": true
    },
    "kernelspec": {
      "display_name": "Python 3",
      "name": "python3"
    },
    "language_info": {
      "name": "python"
    }
  },
  "nbformat": 4,
  "nbformat_minor": 0
}